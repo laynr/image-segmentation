{
 "cells": [
  {
   "cell_type": "code",
   "execution_count": null,
   "metadata": {},
   "outputs": [],
   "source": [
    "!pip install plotly\n",
    "!pip install pycocotools\n",
    "!pip install -U kaleido # restart kernel\n",
    "!pip install 'git+https://github.com/facebookresearch/detectron2.git'"
   ]
  },
  {
   "cell_type": "markdown",
   "metadata": {},
   "source": [
    "# Create Image"
   ]
  },
  {
   "cell_type": "code",
   "execution_count": 1,
   "metadata": {},
   "outputs": [],
   "source": [
    "#Create png on line drawing\n",
    "import plotly\n",
    "import plotly.express as px\n",
    "import plotly.graph_objects as go\n",
    "\n",
    "filename = './image.png'\n",
    "\n",
    "# create plot\n",
    "fig = px.line(x=[1,2,3,4,5])#, color_discrete_sequence = [\"black\"]) # line\n",
    "#fig = go.Figure()\n",
    "#fig.add_vrect(x0=0.9, x1=2) # square\n",
    "fig.update_layout(yaxis_visible=False, yaxis_showticklabels=False, xaxis_visible=False, xaxis_showticklabels=False, plot_bgcolor=('white') )\n",
    "\n",
    "# save plot as RGBA png\n",
    "fig.write_image(filename)\n",
    "\n",
    "# convert png to grayscale (remove alpha channel)\n",
    "#from PIL import Image, ImageOps\n",
    "#ImageOps.grayscale(Image.open(filename)).save(filename)"
   ]
  },
  {
   "cell_type": "markdown",
   "metadata": {},
   "source": [
    "# Create Image Mask"
   ]
  },
  {
   "cell_type": "code",
   "execution_count": 2,
   "metadata": {},
   "outputs": [],
   "source": [
    "import itertools\n",
    "import numpy as np\n",
    "from PIL import Image\n",
    "from pycocotools import mask\n",
    "\n",
    "# From https://newbedev.com/encode-numpy-array-using-uncompressed-rle-for-coco-dataset\n",
    "def binary_mask_to_rle(binary_mask):\n",
    "    rle = {'counts': [], 'size': list(binary_mask.shape)}\n",
    "    counts = rle.get('counts')\n",
    "    for i, (value, elements) in enumerate(itertools.groupby(binary_mask.ravel(order='F'))):\n",
    "        if i == 0 and value == 1:\n",
    "            counts.append(0)\n",
    "        counts.append(len(list(elements)))\n",
    "    return rle\n",
    "\n",
    "# open image\n",
    "image = Image.open(filename)\n",
    "data = np.asarray(image)\n",
    "\n",
    "# remove alpha channel\n",
    "data = data[:, :, 0]\n",
    "\n",
    "# creat binary mask from array\n",
    "data[data != 255] = True\n",
    "data[data == 255] = False\n",
    "ground_truth_binary_mask = data\n",
    "\n",
    "# convert to run level encoding\n",
    "fortran_ground_truth_binary_mask = np.asfortranarray(ground_truth_binary_mask)\n",
    "rle = binary_mask_to_rle(fortran_ground_truth_binary_mask)\n",
    "segmentation = rle\n",
    "\n",
    "# caclulate area, bbox, height, width\n",
    "compressed_rle = mask.frPyObjects(rle, rle.get('size')[0], rle.get('size')[1])\n",
    "area = int(mask.area(compressed_rle))\n",
    "bbox = mask.toBbox(compressed_rle).tolist()\n",
    "image_height = rle.get('size')[0]\n",
    "image_width  = rle.get('size')[1]"
   ]
  },
  {
   "cell_type": "markdown",
   "metadata": {},
   "source": [
    "#  Create COCO Annotations json"
   ]
  },
  {
   "cell_type": "code",
   "execution_count": 3,
   "metadata": {},
   "outputs": [],
   "source": [
    "import json\n",
    "\n",
    "# https://www.immersivelimit.com/tutorials/create-coco-annotations-from-scratch\n",
    "\n",
    "cat_name = 'ok'\n",
    "cat_id = 1\n",
    "cats =[{'name':cat_name, 'id':cat_id}]\n",
    "\n",
    "image_id = 'image_id'\n",
    "file_name = filename\n",
    "images = [{'id':image_id, 'width':image_width, 'height':image_height, 'file_name':file_name}]\n",
    "\n",
    "annotations=[]\n",
    "ann_id = 23\n",
    "seg = {\n",
    "    'segmentation':segmentation, \n",
    "    'bbox': bbox,\n",
    "    'area': area,\n",
    "    'image_id':image_id, \n",
    "    'category_id':cat_id, \n",
    "    'iscrowd':0, \n",
    "    'id':ann_id\n",
    "}\n",
    "annotations.append(seg)\n",
    "\n",
    "annotations_file = './coco_annotations.json'\n",
    "root = {'categories':cats, 'images':images,'annotations':annotations}\n",
    "with open(annotations_file, 'w', encoding='utf-8') as f:\n",
    "    json.dump(root, f, ensure_ascii=True, indent=4)"
   ]
  },
  {
   "cell_type": "markdown",
   "metadata": {},
   "source": [
    "# View Annotations"
   ]
  },
  {
   "cell_type": "code",
   "execution_count": 4,
   "metadata": {},
   "outputs": [
    {
     "data": {
      "text/plain": [
       "<matplotlib.image.AxesImage at 0x7fb1143f3588>"
      ]
     },
     "execution_count": 4,
     "metadata": {},
     "output_type": "execute_result"
    },
    {
     "data": {
      "image/png": "[encoded data removed]",
      "text/plain": [
       "<Figure size 1440x1080 with 1 Axes>"
      ]
     },
     "metadata": {
      "needs_background": "light"
     },
     "output_type": "display_data"
    }
   ],
   "source": [
    "import cv2\n",
    "import matplotlib.pyplot as plt\n",
    "from detectron2.data.datasets import register_coco_instances\n",
    "from detectron2.data import MetadataCatalog, DatasetCatalog\n",
    "from detectron2.utils.visualizer import Visualizer\n",
    "\n",
    "annotations_file = annotations_file\n",
    "image_dir = './'\n",
    "register_coco_instances('soul_train',{}, annotations_file, image_dir)\n",
    "train_ds = DatasetCatalog.get('soul_train')\n",
    "metadata = MetadataCatalog.get('soul_train')\n",
    "\n",
    "d = train_ds[0]\n",
    "img = cv2.imread(d[\"file_name\"])\n",
    "visualizer = Visualizer(img[:, :, ::-1], metadata=metadata)\n",
    "out = visualizer.draw_dataset_dict(d)\n",
    "plt.figure(figsize = (20,15))\n",
    "plt.imshow(out.get_image()[:, :, ::-1])"
   ]
  }
 ],
 "metadata": {
  "kernelspec": {
   "display_name": "Python 3",
   "language": "python",
   "name": "python3"
  },
  "language_info": {
   "codemirror_mode": {
    "name": "ipython",
    "version": 3
   },
   "file_extension": ".py",
   "mimetype": "text/x-python",
   "name": "python",
   "nbconvert_exporter": "python",
   "pygments_lexer": "ipython3",
   "version": "3.6.9"
  }
 },
 "nbformat": 4,
 "nbformat_minor": 4
}
